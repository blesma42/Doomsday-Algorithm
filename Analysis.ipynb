{
 "cells": [
  {
   "cell_type": "markdown",
   "metadata": {},
   "source": [
    "# Analysis\n",
    "\n",
    "This file contains the analysis of the results from the Doomsday guesser."
   ]
  },
  {
   "cell_type": "code",
   "execution_count": 1,
   "metadata": {},
   "outputs": [],
   "source": [
    "import pandas as pd\n",
    "import numpy as np\n",
    "from matplotlib import pyplot as plt\n",
    "from matplotlib import ticker"
   ]
  },
  {
   "cell_type": "markdown",
   "metadata": {},
   "source": [
    "At first the .csv is read and inspected."
   ]
  },
  {
   "cell_type": "code",
   "execution_count": 2,
   "metadata": {},
   "outputs": [
    {
     "data": {
      "text/html": [
       "<div>\n",
       "<style scoped>\n",
       "    .dataframe tbody tr th:only-of-type {\n",
       "        vertical-align: middle;\n",
       "    }\n",
       "\n",
       "    .dataframe tbody tr th {\n",
       "        vertical-align: top;\n",
       "    }\n",
       "\n",
       "    .dataframe thead th {\n",
       "        text-align: right;\n",
       "    }\n",
       "</style>\n",
       "<table border=\"1\" class=\"dataframe\">\n",
       "  <thead>\n",
       "    <tr style=\"text-align: right;\">\n",
       "      <th></th>\n",
       "      <th>index</th>\n",
       "      <th>session</th>\n",
       "      <th>date_of_session</th>\n",
       "      <th>date_to_guess</th>\n",
       "      <th>day_of_week</th>\n",
       "      <th>guess</th>\n",
       "      <th>time</th>\n",
       "    </tr>\n",
       "  </thead>\n",
       "  <tbody>\n",
       "    <tr>\n",
       "      <th>0</th>\n",
       "      <td>0</td>\n",
       "      <td>1</td>\n",
       "      <td>2022-03-19</td>\n",
       "      <td>1901-07-28</td>\n",
       "      <td>0</td>\n",
       "      <td>0</td>\n",
       "      <td>40.7412</td>\n",
       "    </tr>\n",
       "    <tr>\n",
       "      <th>1</th>\n",
       "      <td>1</td>\n",
       "      <td>1</td>\n",
       "      <td>2022-03-19</td>\n",
       "      <td>2216-12-29</td>\n",
       "      <td>0</td>\n",
       "      <td>0</td>\n",
       "      <td>47.2239</td>\n",
       "    </tr>\n",
       "    <tr>\n",
       "      <th>2</th>\n",
       "      <td>2</td>\n",
       "      <td>1</td>\n",
       "      <td>2022-03-19</td>\n",
       "      <td>1710-08-20</td>\n",
       "      <td>3</td>\n",
       "      <td>3</td>\n",
       "      <td>40.9176</td>\n",
       "    </tr>\n",
       "    <tr>\n",
       "      <th>3</th>\n",
       "      <td>3</td>\n",
       "      <td>1</td>\n",
       "      <td>2022-03-19</td>\n",
       "      <td>2446-05-31</td>\n",
       "      <td>4</td>\n",
       "      <td>4</td>\n",
       "      <td>46.7980</td>\n",
       "    </tr>\n",
       "    <tr>\n",
       "      <th>4</th>\n",
       "      <td>4</td>\n",
       "      <td>1</td>\n",
       "      <td>2022-03-19</td>\n",
       "      <td>1766-06-09</td>\n",
       "      <td>1</td>\n",
       "      <td>1</td>\n",
       "      <td>37.2850</td>\n",
       "    </tr>\n",
       "  </tbody>\n",
       "</table>\n",
       "</div>"
      ],
      "text/plain": [
       "   index  session date_of_session date_to_guess  day_of_week  guess     time\n",
       "0      0        1      2022-03-19    1901-07-28            0      0  40.7412\n",
       "1      1        1      2022-03-19    2216-12-29            0      0  47.2239\n",
       "2      2        1      2022-03-19    1710-08-20            3      3  40.9176\n",
       "3      3        1      2022-03-19    2446-05-31            4      4  46.7980\n",
       "4      4        1      2022-03-19    1766-06-09            1      1  37.2850"
      ]
     },
     "execution_count": 2,
     "metadata": {},
     "output_type": "execute_result"
    }
   ],
   "source": [
    "df = pd.read_csv('Doomsday.csv')\n",
    "df.head()"
   ]
  },
  {
   "cell_type": "markdown",
   "metadata": {},
   "source": [
    "To check, if the datatypes got properly recognised, the data types of each column are checked. "
   ]
  },
  {
   "cell_type": "code",
   "execution_count": 3,
   "metadata": {},
   "outputs": [
    {
     "name": "stdout",
     "output_type": "stream",
     "text": [
      "<class 'pandas.core.frame.DataFrame'>\n",
      "RangeIndex: 137 entries, 0 to 136\n",
      "Data columns (total 7 columns):\n",
      " #   Column           Non-Null Count  Dtype  \n",
      "---  ------           --------------  -----  \n",
      " 0   index            137 non-null    int64  \n",
      " 1   session          137 non-null    int64  \n",
      " 2   date_of_session  137 non-null    object \n",
      " 3   date_to_guess    137 non-null    object \n",
      " 4   day_of_week      137 non-null    int64  \n",
      " 5   guess            137 non-null    int64  \n",
      " 6   time             137 non-null    float64\n",
      "dtypes: float64(1), int64(4), object(2)\n",
      "memory usage: 7.6+ KB\n"
     ]
    }
   ],
   "source": [
    "df.info()"
   ]
  },
  {
   "cell_type": "markdown",
   "metadata": {},
   "source": [
    "To check the datatypes of the dates the first entries of the two columns are inspected."
   ]
  },
  {
   "cell_type": "code",
   "execution_count": 5,
   "metadata": {},
   "outputs": [
    {
     "name": "stdout",
     "output_type": "stream",
     "text": [
      "<class 'str'>\n",
      "<class 'str'>\n"
     ]
    }
   ],
   "source": [
    "print(type(df['date_of_session'][0]))\n",
    "print(type(df['date_to_guess'][0]))"
   ]
  },
  {
   "cell_type": "markdown",
   "metadata": {},
   "source": [
    "While they aren't recognised as dates, that's not an issue for now. Instead of the 'date_of_session' the session number can be used. And in case of the 'date_to_guess' the large range of dates might to to large for the pandas date calss. Also, for the date_to_guess the dates itself aren't very importent, only the subcomponends (month, year, century)"
   ]
  },
  {
   "cell_type": "code",
   "execution_count": 6,
   "metadata": {},
   "outputs": [
    {
     "data": {
      "text/html": [
       "<div>\n",
       "<style scoped>\n",
       "    .dataframe tbody tr th:only-of-type {\n",
       "        vertical-align: middle;\n",
       "    }\n",
       "\n",
       "    .dataframe tbody tr th {\n",
       "        vertical-align: top;\n",
       "    }\n",
       "\n",
       "    .dataframe thead th {\n",
       "        text-align: right;\n",
       "    }\n",
       "</style>\n",
       "<table border=\"1\" class=\"dataframe\">\n",
       "  <thead>\n",
       "    <tr style=\"text-align: right;\">\n",
       "      <th></th>\n",
       "      <th>index</th>\n",
       "      <th>session</th>\n",
       "      <th>date_of_session</th>\n",
       "      <th>date_to_guess</th>\n",
       "      <th>day_of_week</th>\n",
       "      <th>guess</th>\n",
       "      <th>time</th>\n",
       "      <th>year_to_guess</th>\n",
       "      <th>month_to_guess</th>\n",
       "      <th>day_to_guess</th>\n",
       "      <th>century_to_guess</th>\n",
       "      <th>two_digit_year_to_guess</th>\n",
       "    </tr>\n",
       "  </thead>\n",
       "  <tbody>\n",
       "    <tr>\n",
       "      <th>0</th>\n",
       "      <td>0</td>\n",
       "      <td>1</td>\n",
       "      <td>2022-03-19</td>\n",
       "      <td>1901-07-28</td>\n",
       "      <td>0</td>\n",
       "      <td>0</td>\n",
       "      <td>40.7412</td>\n",
       "      <td>1901</td>\n",
       "      <td>7</td>\n",
       "      <td>28</td>\n",
       "      <td>1900</td>\n",
       "      <td>1</td>\n",
       "    </tr>\n",
       "    <tr>\n",
       "      <th>1</th>\n",
       "      <td>1</td>\n",
       "      <td>1</td>\n",
       "      <td>2022-03-19</td>\n",
       "      <td>2216-12-29</td>\n",
       "      <td>0</td>\n",
       "      <td>0</td>\n",
       "      <td>47.2239</td>\n",
       "      <td>2216</td>\n",
       "      <td>12</td>\n",
       "      <td>29</td>\n",
       "      <td>2200</td>\n",
       "      <td>16</td>\n",
       "    </tr>\n",
       "    <tr>\n",
       "      <th>2</th>\n",
       "      <td>2</td>\n",
       "      <td>1</td>\n",
       "      <td>2022-03-19</td>\n",
       "      <td>1710-08-20</td>\n",
       "      <td>3</td>\n",
       "      <td>3</td>\n",
       "      <td>40.9176</td>\n",
       "      <td>1710</td>\n",
       "      <td>8</td>\n",
       "      <td>20</td>\n",
       "      <td>1700</td>\n",
       "      <td>10</td>\n",
       "    </tr>\n",
       "    <tr>\n",
       "      <th>3</th>\n",
       "      <td>3</td>\n",
       "      <td>1</td>\n",
       "      <td>2022-03-19</td>\n",
       "      <td>2446-05-31</td>\n",
       "      <td>4</td>\n",
       "      <td>4</td>\n",
       "      <td>46.7980</td>\n",
       "      <td>2446</td>\n",
       "      <td>5</td>\n",
       "      <td>31</td>\n",
       "      <td>2400</td>\n",
       "      <td>46</td>\n",
       "    </tr>\n",
       "    <tr>\n",
       "      <th>4</th>\n",
       "      <td>4</td>\n",
       "      <td>1</td>\n",
       "      <td>2022-03-19</td>\n",
       "      <td>1766-06-09</td>\n",
       "      <td>1</td>\n",
       "      <td>1</td>\n",
       "      <td>37.2850</td>\n",
       "      <td>1766</td>\n",
       "      <td>6</td>\n",
       "      <td>9</td>\n",
       "      <td>1700</td>\n",
       "      <td>66</td>\n",
       "    </tr>\n",
       "  </tbody>\n",
       "</table>\n",
       "</div>"
      ],
      "text/plain": [
       "   index  session date_of_session date_to_guess  day_of_week  guess     time  \\\n",
       "0      0        1      2022-03-19    1901-07-28            0      0  40.7412   \n",
       "1      1        1      2022-03-19    2216-12-29            0      0  47.2239   \n",
       "2      2        1      2022-03-19    1710-08-20            3      3  40.9176   \n",
       "3      3        1      2022-03-19    2446-05-31            4      4  46.7980   \n",
       "4      4        1      2022-03-19    1766-06-09            1      1  37.2850   \n",
       "\n",
       "   year_to_guess  month_to_guess  day_to_guess  century_to_guess  \\\n",
       "0           1901               7            28              1900   \n",
       "1           2216              12            29              2200   \n",
       "2           1710               8            20              1700   \n",
       "3           2446               5            31              2400   \n",
       "4           1766               6             9              1700   \n",
       "\n",
       "   two_digit_year_to_guess  \n",
       "0                        1  \n",
       "1                       16  \n",
       "2                       10  \n",
       "3                       46  \n",
       "4                       66  "
      ]
     },
     "execution_count": 6,
     "metadata": {},
     "output_type": "execute_result"
    }
   ],
   "source": [
    "date_split = df['date_to_guess'].str.split(pat='-', n=-1, expand=True)\n",
    "\n",
    "df['year_to_guess'] = date_split[0].astype(int)\n",
    "df['month_to_guess'] = date_split[1].astype(int)\n",
    "df['day_to_guess'] = date_split[2].astype(int)\n",
    "df['century_to_guess'] = df['year_to_guess']//100*100\n",
    "df['two_digit_year_to_guess'] = df['year_to_guess']-df['century_to_guess']\n",
    "\n",
    "df.head()"
   ]
  },
  {
   "cell_type": "markdown",
   "metadata": {},
   "source": [
    "In addition, it will be interesting, which guesses are correct and which are not."
   ]
  },
  {
   "cell_type": "code",
   "execution_count": 11,
   "metadata": {},
   "outputs": [
    {
     "data": {
      "text/html": [
       "<div>\n",
       "<style scoped>\n",
       "    .dataframe tbody tr th:only-of-type {\n",
       "        vertical-align: middle;\n",
       "    }\n",
       "\n",
       "    .dataframe tbody tr th {\n",
       "        vertical-align: top;\n",
       "    }\n",
       "\n",
       "    .dataframe thead th {\n",
       "        text-align: right;\n",
       "    }\n",
       "</style>\n",
       "<table border=\"1\" class=\"dataframe\">\n",
       "  <thead>\n",
       "    <tr style=\"text-align: right;\">\n",
       "      <th></th>\n",
       "      <th>index</th>\n",
       "      <th>session</th>\n",
       "      <th>date_of_session</th>\n",
       "      <th>date_to_guess</th>\n",
       "      <th>day_of_week</th>\n",
       "      <th>guess</th>\n",
       "      <th>time</th>\n",
       "      <th>year_to_guess</th>\n",
       "      <th>month_to_guess</th>\n",
       "      <th>day_to_guess</th>\n",
       "      <th>century_to_guess</th>\n",
       "      <th>two_digit_year_to_guess</th>\n",
       "      <th>correct_guess</th>\n",
       "    </tr>\n",
       "  </thead>\n",
       "  <tbody>\n",
       "    <tr>\n",
       "      <th>0</th>\n",
       "      <td>0</td>\n",
       "      <td>1</td>\n",
       "      <td>2022-03-19</td>\n",
       "      <td>1901-07-28</td>\n",
       "      <td>0</td>\n",
       "      <td>0</td>\n",
       "      <td>40.7412</td>\n",
       "      <td>1901</td>\n",
       "      <td>7</td>\n",
       "      <td>28</td>\n",
       "      <td>1900</td>\n",
       "      <td>1</td>\n",
       "      <td>1</td>\n",
       "    </tr>\n",
       "    <tr>\n",
       "      <th>1</th>\n",
       "      <td>1</td>\n",
       "      <td>1</td>\n",
       "      <td>2022-03-19</td>\n",
       "      <td>2216-12-29</td>\n",
       "      <td>0</td>\n",
       "      <td>0</td>\n",
       "      <td>47.2239</td>\n",
       "      <td>2216</td>\n",
       "      <td>12</td>\n",
       "      <td>29</td>\n",
       "      <td>2200</td>\n",
       "      <td>16</td>\n",
       "      <td>1</td>\n",
       "    </tr>\n",
       "    <tr>\n",
       "      <th>2</th>\n",
       "      <td>2</td>\n",
       "      <td>1</td>\n",
       "      <td>2022-03-19</td>\n",
       "      <td>1710-08-20</td>\n",
       "      <td>3</td>\n",
       "      <td>3</td>\n",
       "      <td>40.9176</td>\n",
       "      <td>1710</td>\n",
       "      <td>8</td>\n",
       "      <td>20</td>\n",
       "      <td>1700</td>\n",
       "      <td>10</td>\n",
       "      <td>1</td>\n",
       "    </tr>\n",
       "    <tr>\n",
       "      <th>3</th>\n",
       "      <td>3</td>\n",
       "      <td>1</td>\n",
       "      <td>2022-03-19</td>\n",
       "      <td>2446-05-31</td>\n",
       "      <td>4</td>\n",
       "      <td>4</td>\n",
       "      <td>46.7980</td>\n",
       "      <td>2446</td>\n",
       "      <td>5</td>\n",
       "      <td>31</td>\n",
       "      <td>2400</td>\n",
       "      <td>46</td>\n",
       "      <td>1</td>\n",
       "    </tr>\n",
       "    <tr>\n",
       "      <th>4</th>\n",
       "      <td>4</td>\n",
       "      <td>1</td>\n",
       "      <td>2022-03-19</td>\n",
       "      <td>1766-06-09</td>\n",
       "      <td>1</td>\n",
       "      <td>1</td>\n",
       "      <td>37.2850</td>\n",
       "      <td>1766</td>\n",
       "      <td>6</td>\n",
       "      <td>9</td>\n",
       "      <td>1700</td>\n",
       "      <td>66</td>\n",
       "      <td>1</td>\n",
       "    </tr>\n",
       "  </tbody>\n",
       "</table>\n",
       "</div>"
      ],
      "text/plain": [
       "   index  session date_of_session date_to_guess  day_of_week  guess     time  \\\n",
       "0      0        1      2022-03-19    1901-07-28            0      0  40.7412   \n",
       "1      1        1      2022-03-19    2216-12-29            0      0  47.2239   \n",
       "2      2        1      2022-03-19    1710-08-20            3      3  40.9176   \n",
       "3      3        1      2022-03-19    2446-05-31            4      4  46.7980   \n",
       "4      4        1      2022-03-19    1766-06-09            1      1  37.2850   \n",
       "\n",
       "   year_to_guess  month_to_guess  day_to_guess  century_to_guess  \\\n",
       "0           1901               7            28              1900   \n",
       "1           2216              12            29              2200   \n",
       "2           1710               8            20              1700   \n",
       "3           2446               5            31              2400   \n",
       "4           1766               6             9              1700   \n",
       "\n",
       "   two_digit_year_to_guess  correct_guess  \n",
       "0                        1              1  \n",
       "1                       16              1  \n",
       "2                       10              1  \n",
       "3                       46              1  \n",
       "4                       66              1  "
      ]
     },
     "execution_count": 11,
     "metadata": {},
     "output_type": "execute_result"
    }
   ],
   "source": [
    "df['correct_guess'] = np.where((df['day_of_week']==df['guess']), 1, 0)\n",
    "df.head()"
   ]
  },
  {
   "cell_type": "markdown",
   "metadata": {},
   "source": [
    "Because the analysis will focus on the proportion of correct guesses, the time, and counts per session, per month, per year, per century, ... it might be repetitive. To avoid repeading code, a function can be created to deal with all of it. "
   ]
  },
  {
   "cell_type": "code",
   "execution_count": 12,
   "metadata": {},
   "outputs": [],
   "source": [
    "def multiplot(df, plot_by):\n",
    "\n",
    "    df = df.astype({plot_by: str})\n",
    "\n",
    "    plt.rcParams[\"figure.figsize\"] = (5,7)\n",
    "\n",
    "    # lists of all important values for visualization\n",
    "    values = ['counts', 'avg time', 'correct_guess']\n",
    "    lables = ['Number of Guesses', 'Average Time per Guess', 'Proportion of correct Guesses']\n",
    "    y_limits = [(max(df['counts'])+10)//10*10, (max(df['avg time'])+10)//10*10, 1]\n",
    "    y_ticks_steps = [10, 10, 0.2]\n",
    "\n",
    "    fig, axs = plt.subplots(3, 1)\n",
    "\n",
    "    for i in range(3):\n",
    "        axs[i].bar(df[plot_by], df[values[i]])\n",
    "        axs[i].set_title(lables[i])\n",
    "        axs[i].set_ylim(0, y_limits[i])\n",
    "        axs[i].yaxis.set_major_locator(ticker.MultipleLocator(y_ticks_steps[i]))\n",
    "        axs[i].grid(axis='y')\n",
    "\n",
    "    fig.suptitle(f'Results per {plot_by}')\n",
    "\n",
    "    fig.tight_layout()\n",
    "    plt.show()"
   ]
  },
  {
   "cell_type": "markdown",
   "metadata": {},
   "source": [
    "Because the function multiplot() needs an summarized dataframe and this will also be repetitive, another function can be created."
   ]
  },
  {
   "cell_type": "code",
   "execution_count": 13,
   "metadata": {},
   "outputs": [],
   "source": [
    "def summarize_df(df, summarize_by):\n",
    "    '''Summarizes a dataframe by a given value. \n",
    "    Calculates counts, mean time, and proportion of correct guesses for this summarized dataframe.'''\n",
    "    factors_for_df_summarized = [summarize_by, 'time', 'correct_guess']\n",
    "    \n",
    "    sub_df = df[factors_for_df_summarized] # contains only the columns of interest \n",
    "\n",
    "    df_summarized = sub_df.groupby(summarize_by).agg({summarize_by:'size', 'time':'mean', 'correct_guess':'mean'})\n",
    "    # set new ordering of columns\n",
    "    df_summarized.reindex([summarize_by,'time','correct_guess'], axis=1)\n",
    "    # reset index\n",
    "    df_summarized = df_summarized.rename_axis(None).reset_index()\n",
    "    #set new column names\n",
    "    df_summarized.columns = [summarize_by,'counts','avg time','correct_guess']\n",
    "\n",
    "    return df_summarized"
   ]
  },
  {
   "cell_type": "markdown",
   "metadata": {},
   "source": [
    "And finally, because one function summarizes the dataframe and the other function visualizes a dataframe, the can be brought together in one function."
   ]
  },
  {
   "cell_type": "code",
   "execution_count": 14,
   "metadata": {},
   "outputs": [],
   "source": [
    "def analyse_factor(dataframe, factor):\n",
    "    summerazed_df = summarize_df(dataframe, factor)\n",
    "    multiplot(summerazed_df, factor)"
   ]
  },
  {
   "cell_type": "markdown",
   "metadata": {},
   "source": [
    "Now, different factors can be analysed. \n",
    "Lets start with 'session'."
   ]
  },
  {
   "cell_type": "code",
   "execution_count": 15,
   "metadata": {},
   "outputs": [
    {
     "data": {
      "image/png": "[encoded data removed]",
      "text/plain": [
       "<Figure size 360x504 with 3 Axes>"
      ]
     },
     "metadata": {
      "needs_background": "light"
     },
     "output_type": "display_data"
    }
   ],
   "source": [
    "analyse_factor(df, 'session')"
   ]
  },
  {
   "cell_type": "markdown",
   "metadata": {},
   "source": [
    "Next, Results per century can be inspected. \n",
    "Note that the centurys 1500 and 2400 should be underrepresented because somwhere in these centurys are the limits for the random date."
   ]
  },
  {
   "cell_type": "code",
   "execution_count": 16,
   "metadata": {},
   "outputs": [
    {
     "data": {
      "image/png": "[encoded data removed]",
      "text/plain": [
       "<Figure size 360x504 with 3 Axes>"
      ]
     },
     "metadata": {
      "needs_background": "light"
     },
     "output_type": "display_data"
    }
   ],
   "source": [
    "analyse_factor(df, 'century_to_guess')"
   ]
  },
  {
   "cell_type": "markdown",
   "metadata": {},
   "source": [
    "Now the months can be inspected."
   ]
  },
  {
   "cell_type": "code",
   "execution_count": 17,
   "metadata": {},
   "outputs": [
    {
     "data": {
      "image/png": "[encoded data removed]",
      "text/plain": [
       "<Figure size 360x504 with 3 Axes>"
      ]
     },
     "metadata": {
      "needs_background": "light"
     },
     "output_type": "display_data"
    }
   ],
   "source": [
    "analyse_factor(df, 'month_to_guess')"
   ]
  },
  {
   "cell_type": "markdown",
   "metadata": {},
   "source": [
    "As today (24.03.2022, 6 sessions) the graph clearly indicates a low proportion of correct guesses with the months 7, 9, and 11. This is probobly due to the confusion of the doomsdays for this months (5.7.; 11.9.; 9.11.)."
   ]
  }
 ],
 "metadata": {
  "interpreter": {
   "hash": "5cc83d2eedb6ffb852fbb5dbaa9989f2c63275a766445ab272166a468a2180f7"
  },
  "kernelspec": {
   "display_name": "Python 3.10.2 ('.venv')",
   "language": "python",
   "name": "python3"
  },
  "language_info": {
   "codemirror_mode": {
    "name": "ipython",
    "version": 3
   },
   "file_extension": ".py",
   "mimetype": "text/x-python",
   "name": "python",
   "nbconvert_exporter": "python",
   "pygments_lexer": "ipython3",
   "version": "3.10.2"
  },
  "orig_nbformat": 4
 },
 "nbformat": 4,
 "nbformat_minor": 2
}
